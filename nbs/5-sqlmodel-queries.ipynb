{
 "cells": [
  {
   "cell_type": "code",
   "execution_count": 33,
   "metadata": {},
   "outputs": [],
   "source": [
    "import sys\n",
    "from pathlib import Path\n",
    "from pprint import pprint\n"
   ]
  },
  {
   "cell_type": "code",
   "execution_count": 34,
   "metadata": {},
   "outputs": [],
   "source": [
    "src_path = Path(\"../src\").resolve()\n",
    "sys.path.append(str(src_path))"
   ]
  },
  {
   "cell_type": "code",
   "execution_count": 35,
   "metadata": {},
   "outputs": [],
   "source": [
    "from sqlmodel import Session, select\n",
    "from api.events.models import EventModel\n",
    "from api.db.session import engine\n"
   ]
  },
  {
   "cell_type": "code",
   "execution_count": 36,
   "metadata": {},
   "outputs": [
    {
     "name": "stdout",
     "output_type": "stream",
     "text": [
      "SELECT eventmodel.id, eventmodel.time, eventmodel.page, eventmodel.description, eventmodel.updated_at \n",
      "FROM eventmodel ORDER BY eventmodel.updated_at ASC\n",
      " LIMIT 10\n",
      "--------------------------------\n",
      "SELECT eventmodel.id, eventmodel.time, eventmodel.page, eventmodel.description, eventmodel.updated_at \n",
      "FROM eventmodel ORDER BY eventmodel.updated_at ASC\n",
      " LIMIT :param_1\n",
      "[EventModel(description='', id=1, time=datetime.datetime(2025, 5, 24, 8, 3, 57, 825320, tzinfo=datetime.timezone.utc), page='/contact', updated_at=datetime.datetime(2025, 5, 24, 8, 3, 57, 825675, tzinfo=datetime.timezone.utc)),\n",
      " EventModel(description='', id=2, time=datetime.datetime(2025, 5, 24, 8, 3, 58, 245158, tzinfo=datetime.timezone.utc), page='/contact', updated_at=datetime.datetime(2025, 5, 24, 8, 3, 58, 245177, tzinfo=datetime.timezone.utc)),\n",
      " EventModel(description='', id=3, time=datetime.datetime(2025, 5, 24, 8, 3, 58, 290503, tzinfo=datetime.timezone.utc), page='/contact', updated_at=datetime.datetime(2025, 5, 24, 8, 3, 58, 290608, tzinfo=datetime.timezone.utc)),\n",
      " EventModel(description='', id=4, time=datetime.datetime(2025, 5, 24, 8, 3, 58, 336121, tzinfo=datetime.timezone.utc), page='/pages', updated_at=datetime.datetime(2025, 5, 24, 8, 3, 58, 336141, tzinfo=datetime.timezone.utc)),\n",
      " EventModel(description='', id=5, time=datetime.datetime(2025, 5, 24, 8, 3, 58, 393436, tzinfo=datetime.timezone.utc), page='/pages', updated_at=datetime.datetime(2025, 5, 24, 8, 3, 58, 393454, tzinfo=datetime.timezone.utc)),\n",
      " EventModel(description='', id=6, time=datetime.datetime(2025, 5, 24, 8, 3, 58, 451383, tzinfo=datetime.timezone.utc), page='/about', updated_at=datetime.datetime(2025, 5, 24, 8, 3, 58, 451518, tzinfo=datetime.timezone.utc)),\n",
      " EventModel(description='', id=7, time=datetime.datetime(2025, 5, 24, 8, 3, 58, 505861, tzinfo=datetime.timezone.utc), page='/about', updated_at=datetime.datetime(2025, 5, 24, 8, 3, 58, 505891, tzinfo=datetime.timezone.utc)),\n",
      " EventModel(description='', id=8, time=datetime.datetime(2025, 5, 24, 8, 3, 58, 567692, tzinfo=datetime.timezone.utc), page='/about', updated_at=datetime.datetime(2025, 5, 24, 8, 3, 58, 567712, tzinfo=datetime.timezone.utc)),\n",
      " EventModel(description='', id=9, time=datetime.datetime(2025, 5, 24, 8, 3, 58, 623102, tzinfo=datetime.timezone.utc), page='pricing', updated_at=datetime.datetime(2025, 5, 24, 8, 3, 58, 623141, tzinfo=datetime.timezone.utc)),\n",
      " EventModel(description='', id=10, time=datetime.datetime(2025, 5, 24, 8, 3, 58, 677933, tzinfo=datetime.timezone.utc), page='/about', updated_at=datetime.datetime(2025, 5, 24, 8, 3, 58, 677958, tzinfo=datetime.timezone.utc))]\n"
     ]
    }
   ],
   "source": [
    "with Session(engine) as session:\n",
    "    query = select(EventModel).order_by(EventModel.updated_at.asc()).limit(\n",
    "        10)                 # limit the number of rows and change the order\n",
    "    compiled_query = query.compile(compile_kwargs={\"literal_binds\": True})\n",
    "    print(compiled_query)\n",
    "    print(\"--------------------------------\")\n",
    "    print(str(query))\n",
    "    \n",
    "    results = session.exec(query).all()\n",
    "    pprint(results)"
   ]
  },
  {
   "cell_type": "code",
   "execution_count": 49,
   "metadata": {},
   "outputs": [
    {
     "name": "stdout",
     "output_type": "stream",
     "text": [
      "[(datetime.datetime(2025, 5, 25, 0, 0, tzinfo=datetime.timezone.utc), '/about', 2412),\n",
      " (datetime.datetime(2025, 5, 25, 0, 0, tzinfo=datetime.timezone.utc), '/contact', 2435),\n",
      " (datetime.datetime(2025, 5, 25, 0, 0, tzinfo=datetime.timezone.utc), '/pages', 2617),\n",
      " (datetime.datetime(2025, 5, 25, 0, 0, tzinfo=datetime.timezone.utc), 'pricing', 2536)]\n"
     ]
    }
   ],
   "source": [
    "from timescaledb.hyperfunctions import time_bucket\n",
    "from sqlalchemy import func\n",
    "from datetime import datetime, timedelta, timezone\n",
    "\n",
    "with Session(engine) as session:\n",
    "    bucket = time_bucket(\"1 day\", EventModel.time)\n",
    "    pages = [\"/about\", \"/contact\", \"/pages\", \"pricing\"] # you can comment out the pages you don't want to see\n",
    "    start = datetime.now(timezone.utc) - timedelta(hours = 1)\n",
    "    finish = datetime.now(timezone.utc) + timedelta(hours = 1)\n",
    "    query = (\n",
    "        select(\n",
    "            bucket,\n",
    "            EventModel.page,\n",
    "            func.count()  # we can label it if we want using: .label(\"event_count\")\n",
    "        )\n",
    "        .where(\n",
    "            EventModel.time > start,\n",
    "            EventModel.time <= finish,\n",
    "            EventModel.page.in_(pages)\n",
    "        )\n",
    "        .group_by(\n",
    "            bucket,\n",
    "            EventModel.page,\n",
    "        )\n",
    "        .order_by(\n",
    "            bucket,\n",
    "            EventModel.page\n",
    "            )\n",
    "    )\n",
    "    compiled_query = query.compile(compile_kwargs={\"literal_binds\": True})\n",
    "    #print(compiled_query)\n",
    "    results = session.exec(query).fetchall()\n",
    "    pprint(results)"
   ]
  }
 ],
 "metadata": {
  "kernelspec": {
   "display_name": "venv",
   "language": "python",
   "name": "python3"
  },
  "language_info": {
   "codemirror_mode": {
    "name": "ipython",
    "version": 3
   },
   "file_extension": ".py",
   "mimetype": "text/x-python",
   "name": "python",
   "nbconvert_exporter": "python",
   "pygments_lexer": "ipython3",
   "version": "3.13.3"
  }
 },
 "nbformat": 4,
 "nbformat_minor": 2
}
