{
 "cells": [
  {
   "cell_type": "code",
   "execution_count": 1,
   "metadata": {},
   "outputs": [],
   "source": [
    "import requests\n",
    "\n"
   ]
  },
  {
   "cell_type": "code",
   "execution_count": 12,
   "metadata": {},
   "outputs": [
    {
     "name": "stdout",
     "output_type": "stream",
     "text": [
      "{'date': 'Fri, 23 May 2025 11:21:36 GMT', 'server': 'uvicorn', 'content-length': '87', 'content-type': 'application/json'}\n",
      "ok True\n",
      "{'page': '/test+', 'description': '123', 'created_at': '2025-05-23T11:21:37.718216Z', 'id': 9} <class 'dict'> None\n"
     ]
    }
   ],
   "source": [
    "path = \"/api/events/\" \n",
    "base_url = \"http://localhost:8002\"\n",
    "create_endpoint = f\"{base_url}{path}\"\n",
    "\n",
    "response = requests.post(create_endpoint, json={\"page\": \"/test+\", \"description\" : \"123\"})\n",
    "print(response.headers)\n",
    "print('ok',response.ok)\n",
    "if response.ok:\n",
    "    data = response.json()\n",
    "    print(data, type(data), data.get('items'))\n",
    "else:\n",
    "    print(response.text)"
   ]
  },
  {
   "cell_type": "code",
   "execution_count": null,
   "metadata": {},
   "outputs": [],
   "source": []
  },
  {
   "cell_type": "code",
   "execution_count": 14,
   "metadata": {},
   "outputs": [
    {
     "name": "stdout",
     "output_type": "stream",
     "text": [
      "{'date': 'Fri, 23 May 2025 11:22:05 GMT', 'server': 'uvicorn', 'content-length': '95', 'content-type': 'application/json'}\n",
      "ok 200\n",
      "{'page': '/test+', 'description': 'inline test', 'created_at': '2025-05-23T11:21:33.450617Z', 'id': 5} <class 'dict'> None\n"
     ]
    }
   ],
   "source": [
    "detail_path = \"/api/events/5/\"\n",
    "detail_endpoint = f\"{base_url}{detail_path}\"\n",
    "\n",
    "response = requests.put(detail_endpoint, json={\"description\" : \"inline test\"}) #HTTP PUT\n",
    "print(response.headers)\n",
    "print('ok',response.status_code)\n",
    "if response.ok:\n",
    "    data = response.json()\n",
    "    print(data, type(data), data.get('items'))\n",
    "else:\n",
    "    print(response.text)"
   ]
  },
  {
   "cell_type": "code",
   "execution_count": 4,
   "metadata": {},
   "outputs": [
    {
     "name": "stdout",
     "output_type": "stream",
     "text": [
      "{'date': 'Fri, 23 May 2025 11:20:47 GMT', 'server': 'uvicorn', 'content-length': '28', 'content-type': 'application/json'}\n",
      "ok 404\n",
      "Failed to delete event {\"detail\":\"Event not found\"}\n"
     ]
    }
   ],
   "source": [
    "delete_path = \"/api/events/10/\"\n",
    "delete_endpoint = f\"{base_url}{delete_path}\"\n",
    "\n",
    "response = requests.delete(delete_endpoint) #HTTP PUT\n",
    "print(response.headers)\n",
    "print('ok',response.status_code)\n",
    "if response.ok:\n",
    "    print(\"Deleted event successfully\")\n",
    "else:\n",
    "    print(\"Failed to delete event\", response.text)"
   ]
  }
 ],
 "metadata": {
  "kernelspec": {
   "display_name": "venv",
   "language": "python",
   "name": "python3"
  },
  "language_info": {
   "codemirror_mode": {
    "name": "ipython",
    "version": 3
   },
   "file_extension": ".py",
   "mimetype": "text/x-python",
   "name": "python",
   "nbconvert_exporter": "python",
   "pygments_lexer": "ipython3",
   "version": "3.13.3"
  }
 },
 "nbformat": 4,
 "nbformat_minor": 2
}
