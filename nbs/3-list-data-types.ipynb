{
 "cells": [
  {
   "cell_type": "code",
   "execution_count": 93,
   "metadata": {},
   "outputs": [
    {
     "data": {
      "text/plain": [
       "'http://localhost:8002/api/events'"
      ]
     },
     "execution_count": 93,
     "metadata": {},
     "output_type": "execute_result"
    }
   ],
   "source": [
    "import requests\n",
    "from pprint import pprint\n",
    "\n",
    "path = \"/api/events\" \n",
    "base_url = \"http://localhost:8002\"\n",
    "endpoint = f\"{base_url}{path}\"\n",
    "endpoint"
   ]
  },
  {
   "cell_type": "code",
   "execution_count": 94,
   "metadata": {},
   "outputs": [],
   "source": [
    "response = requests.get(endpoint)"
   ]
  },
  {
   "cell_type": "code",
   "execution_count": 95,
   "metadata": {},
   "outputs": [
    {
     "name": "stdout",
     "output_type": "stream",
     "text": [
      "ok True\n"
     ]
    }
   ],
   "source": [
    "print('ok',response.ok)"
   ]
  },
  {
   "cell_type": "code",
   "execution_count": 96,
   "metadata": {},
   "outputs": [
    {
     "name": "stdout",
     "output_type": "stream",
     "text": [
      "{'count': 10,\n",
      " 'results': [{'description': '123', 'id': 14, 'page': '/test+'},\n",
      "             {'description': 'inline test', 'id': 12, 'page': '/test+'},\n",
      "             {'description': '123', 'id': 11, 'page': '/test+'},\n",
      "             {'description': '123', 'id': 9, 'page': '/test+'},\n",
      "             {'description': '123', 'id': 8, 'page': '/test+'},\n",
      "             {'description': '123', 'id': 7, 'page': '/test+'},\n",
      "             {'description': '123', 'id': 6, 'page': '/test+'},\n",
      "             {'description': '123', 'id': 5, 'page': '/test+'},\n",
      "             {'description': '123', 'id': 4, 'page': '/test+'},\n",
      "             {'description': '123', 'id': 3, 'page': '/test+'}]}\n"
     ]
    }
   ],
   "source": [
    "if response.ok:\n",
    "    data = response.json()\n",
    "    #print(data, type(data), data.get('items'))\n",
    "    pprint(data)"
   ]
  },
  {
   "cell_type": "code",
   "execution_count": 97,
   "metadata": {},
   "outputs": [
    {
     "name": "stdout",
     "output_type": "stream",
     "text": [
      "ok 200\n",
      "{'description': '123', 'id': 14, 'page': '/test+'}\n"
     ]
    }
   ],
   "source": [
    "detail_path = \"/api/events/14\" \n",
    "detail_endpoint = f\"{base_url}{detail_path}\"\n",
    "r = requests.get(detail_endpoint)\n",
    "print('ok',r.status_code)\n",
    "if r.ok:\n",
    "    data = r.json()\n",
    "    #print(data, type(data), data.get('items'))\n",
    "    pprint(data)"
   ]
  }
 ],
 "metadata": {
  "kernelspec": {
   "display_name": "venv",
   "language": "python",
   "name": "python3"
  },
  "language_info": {
   "codemirror_mode": {
    "name": "ipython",
    "version": 3
   },
   "file_extension": ".py",
   "mimetype": "text/x-python",
   "name": "python",
   "nbconvert_exporter": "python",
   "pygments_lexer": "ipython3",
   "version": "3.13.3"
  }
 },
 "nbformat": 4,
 "nbformat_minor": 2
}
