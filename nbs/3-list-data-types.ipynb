{
 "cells": [
  {
   "cell_type": "code",
   "execution_count": 3,
   "metadata": {},
   "outputs": [
    {
     "data": {
      "text/plain": [
       "'http://localhost:8002/api/events'"
      ]
     },
     "execution_count": 3,
     "metadata": {},
     "output_type": "execute_result"
    }
   ],
   "source": [
    "import requests\n",
    "from pprint import pprint\n",
    "\n",
    "path = \"/api/events\" \n",
    "base_url = \"http://localhost:8002\"\n",
    "endpoint = f\"{base_url}{path}\"\n",
    "endpoint"
   ]
  },
  {
   "cell_type": "code",
   "execution_count": null,
   "metadata": {},
   "outputs": [
    {
     "ename": "NameError",
     "evalue": "name 'endpointA' is not defined",
     "output_type": "error",
     "traceback": [
      "\u001b[31m---------------------------------------------------------------------------\u001b[39m",
      "\u001b[31mNameError\u001b[39m                                 Traceback (most recent call last)",
      "\u001b[36mCell\u001b[39m\u001b[36m \u001b[39m\u001b[32mIn[4]\u001b[39m\u001b[32m, line 1\u001b[39m\n\u001b[32m----> \u001b[39m\u001b[32m1\u001b[39m response = requests.get(\u001b[43mendpointA\u001b[49m)\n",
      "\u001b[31mNameError\u001b[39m: name 'endpointA' is not defined"
     ]
    }
   ],
   "source": [
    "response = requests.get(endpoint)"
   ]
  },
  {
   "cell_type": "code",
   "execution_count": 23,
   "metadata": {},
   "outputs": [
    {
     "name": "stdout",
     "output_type": "stream",
     "text": [
      "ok True\n"
     ]
    }
   ],
   "source": [
    "print('ok',response.ok)"
   ]
  },
  {
   "cell_type": "code",
   "execution_count": 25,
   "metadata": {},
   "outputs": [
    {
     "name": "stdout",
     "output_type": "stream",
     "text": [
      "{'count': 10,\n",
      " 'results': [{'description': '123', 'id': 14, 'page': '/test+'},\n",
      "             {'description': '123', 'id': 13, 'page': '/test+'},\n",
      "             {'description': '123', 'id': 12, 'page': '/test+'},\n",
      "             {'description': '123', 'id': 11, 'page': '/test+'},\n",
      "             {'description': '123', 'id': 10, 'page': '/test+'},\n",
      "             {'description': '123', 'id': 9, 'page': '/test+'},\n",
      "             {'description': '123', 'id': 8, 'page': '/test+'},\n",
      "             {'description': '123', 'id': 7, 'page': '/test+'},\n",
      "             {'description': '123', 'id': 6, 'page': '/test+'},\n",
      "             {'description': '123', 'id': 5, 'page': '/test+'}]}\n"
     ]
    }
   ],
   "source": [
    "if response.ok:\n",
    "    data = response.json()\n",
    "    #print(data, type(data), data.get('items'))\n",
    "    pprint(data)"
   ]
  },
  {
   "cell_type": "code",
   "execution_count": 26,
   "metadata": {},
   "outputs": [
    {
     "name": "stdout",
     "output_type": "stream",
     "text": [
      "ok 200\n",
      "{'count': 10,\n",
      " 'results': [{'description': '123', 'id': 14, 'page': '/test+'},\n",
      "             {'description': '123', 'id': 13, 'page': '/test+'},\n",
      "             {'description': '123', 'id': 12, 'page': '/test+'},\n",
      "             {'description': '123', 'id': 11, 'page': '/test+'},\n",
      "             {'description': '123', 'id': 10, 'page': '/test+'},\n",
      "             {'description': '123', 'id': 9, 'page': '/test+'},\n",
      "             {'description': '123', 'id': 8, 'page': '/test+'},\n",
      "             {'description': '123', 'id': 7, 'page': '/test+'},\n",
      "             {'description': '123', 'id': 6, 'page': '/test+'},\n",
      "             {'description': '123', 'id': 5, 'page': '/test+'}]}\n"
     ]
    }
   ],
   "source": [
    "detail_path = \"/api/events/12\" \n",
    "detail_endpoint = f\"{base_url}{detail_path}\"\n",
    "r = requests.get(detail_endpoint)\n",
    "print('ok',r.status_code)\n",
    "if r.ok:\n",
    "    data = r.json()\n",
    "    #print(data, type(data), data.get('items'))\n",
    "    pprint(data)"
   ]
  }
 ],
 "metadata": {
  "kernelspec": {
   "display_name": "venv",
   "language": "python",
   "name": "python3"
  },
  "language_info": {
   "codemirror_mode": {
    "name": "ipython",
    "version": 3
   },
   "file_extension": ".py",
   "mimetype": "text/x-python",
   "name": "python",
   "nbconvert_exporter": "python",
   "pygments_lexer": "ipython3",
   "version": "3.13.3"
  }
 },
 "nbformat": 4,
 "nbformat_minor": 2
}
